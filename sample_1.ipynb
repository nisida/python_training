{
 "cells": [
  {
   "cell_type": "code",
   "execution_count": null,
   "metadata": {},
   "outputs": [],
   "source": [
    "import PIL\n",
    "from PIL import Image\n",
    "\n",
    "img = PIL.Image.open('./photo/001.jpg')\n"
   ]
  },
  {
   "cell_type": "markdown",
   "metadata": {},
   "source": [
    "1108/1478 = 0.75 0.75 * 500"
   ]
  },
  {
   "cell_type": "code",
   "execution_count": null,
   "metadata": {},
   "outputs": [],
   "source": [
    "from PIL import Image\n",
    "\n",
    "img = Image.open('./photo/001.jpg')\n",
    "img.thumbnail((500, 400))\n",
    "print(\"** size = \", img.size)\n",
    "img.save('./photo/001.jpg')\n",
    "img"
   ]
  },
  {
   "cell_type": "code",
   "execution_count": null,
   "metadata": {},
   "outputs": [],
   "source": [
    "import os\n",
    "\n",
    "from PIL import Image\n",
    "\n",
    "fnames = os.listdir('./photo')\n",
    "\n",
    "for fname in fnames :\n",
    "    fpath = os.path.join('photo', fname)\n",
    "    #if os.path.getsize(os.path.join('photo', fname)) >= (200 * 1024) : # 204800 = 1024(B) * 200(KB)\n",
    "    #    img = Image.open(os.path.join('photo', fname))\n",
    "    #    img.thumbnail((500, 400))\n",
    "    #    img.save(os.path.join('photo', fname))\n",
    "    if os.path.getsize(fpath) >= (200 * 1024) : # 204800 = 1024(B) * 200(KB)\n",
    "            img = Image.open(fpath)\n",
    "            img.thumbnail((500, 400))\n",
    "            img.save(fpath)\n"
   ]
  },
  {
   "cell_type": "code",
   "execution_count": null,
   "metadata": {},
   "outputs": [],
   "source": [
    "import os\n",
    "\n",
    "print(os.path.getsize('./photo/001.jpg'))\n",
    "print(\" image file size (KB) = {}KB\".format(int(os.path.getsize('./photo/001.jpg') / 1024)))"
   ]
  },
  {
   "cell_type": "code",
   "execution_count": null,
   "metadata": {},
   "outputs": [],
   "source": [
    "import os\n",
    "\n",
    "#os.path.getsize('./photo/002.jpg') >= (200 * 1024) # 204800 = 1024(B) * 200(KB)\n",
    "\n",
    "boo = 10\n",
    "foo = 10\n",
    "(boo >= 8) and (foo >= 8) "
   ]
  },
  {
   "cell_type": "code",
   "execution_count": null,
   "metadata": {},
   "outputs": [],
   "source": [
    "boo = 10\n",
    "foo = 5\n",
    "if (boo >= 8) and (foo >= 8) :\n",
    "    print(\"こんにちは\")\n",
    "else :\n",
    "    print(\"さようなら\")"
   ]
  },
  {
   "cell_type": "code",
   "execution_count": null,
   "metadata": {},
   "outputs": [],
   "source": [
    "boo = 5\n",
    "foo = 5\n",
    "if (boo >= 8) or (foo >= 8) :\n",
    "    print(\"こんにちは\")\n",
    "else :\n",
    "    print(\"さようなら\")\n",
    "    "
   ]
  },
  {
   "cell_type": "code",
   "execution_count": null,
   "metadata": {},
   "outputs": [],
   "source": [
    "x = 100\n",
    "\n",
    "if(x % 3) == 0 :\n",
    "    print(\"3の倍数\")\n",
    "elif (x % 3) == 1 :\n",
    "    print(\"3で割った余りは1\")\n",
    "else :\n",
    "    print(\"3で割った余りは2\")\n"
   ]
  },
  {
   "cell_type": "code",
   "execution_count": null,
   "metadata": {},
   "outputs": [],
   "source": [
    "# . : カレントディレクトリ、 .. : 親ディレクトリ ./xxx : カレントディレクトリのxxxフォルダ\n",
    "# Windows , MacOSのコマンドラインツールの基本的な使い方を身につける\n",
    "# 絶対パスと、相対パスとは\n",
    "# フォルダー（ディレクトリ）の件。ルートディレクトリとは何か？　ホームディレクトリと何か？　カレントディレクトリと何か？"
   ]
  },
  {
   "cell_type": "markdown",
   "metadata": {},
   "source": [
    "3で割ったあまり(例：　xを３で割ったあまりmが、　(x % 3) == 0: print(\"あまり0), (x % 3) == 1 print(\"あまり1), (x % 3) == print(\"あまり2))"
   ]
  },
  {
   "cell_type": "markdown",
   "metadata": {},
   "source": [
    "テストケース\n",
    "\n",
    "テストケース番号     テストケース　　　　　                  期待さる結果\n",
    "🙆 00001             001.jpg(ファイルサイズxxx > 200KB)     001.jpgがリサイズされる(aaa  x cccc)\n",
    "🔴 00002             002.jpg(ファイルサイズxxx < 200KB)     002.jpgがリサイズされない(aaa  x cccc)\n"
   ]
  },
  {
   "cell_type": "code",
   "execution_count": null,
   "metadata": {},
   "outputs": [],
   "source": [
    "import os\n",
    "\n",
    "fnames = os.listdir('./photo/')\n",
    "\n",
    "for fname in fnames :\n",
    "    print(os.path.join('./photo/', fname))\n",
    "    #print('./photo/' + fname)"
   ]
  },
  {
   "cell_type": "code",
   "execution_count": null,
   "metadata": {},
   "outputs": [],
   "source": [
    "ary = ['アジ', 'サンマ', 'サバ', 'タイ']\n",
    "#print(ary[0])\n",
    "#print(ary[1])\n",
    "#print(ary[2])\n",
    "#print(ary[3])\n",
    "#print(ary[4])\n",
    "#ary[0] = 123456\n",
    "#print(ary)\n",
    "\n",
    "def func(a) :\n",
    "    print(a)\n",
    "\n",
    "fl = [func]\n",
    "fl[0](ary[0])\n",
    "\n",
    "ary2 = [[123, 456, 789], [\"abcd\", \"efgh\"]]\n",
    "print(ary2[0][1])\n",
    "\n"
   ]
  },
  {
   "cell_type": "code",
   "execution_count": 3,
   "metadata": {},
   "outputs": [
    {
     "name": "stdout",
     "output_type": "stream",
     "text": [
      "['タイ', 'サバ', 'サンマ', 'アジ']\n"
     ]
    }
   ],
   "source": [
    "ary = ['アジ', 'サンマ', 'サバ', 'タイ']\n",
    "\n",
    "#a_ary = [ary[3], ary[2], ary[1], ary[0]]\n",
    "#print(a_ary)\n",
    "\n",
    "#ary.append('イワシ')\n",
    "#print(ary)\n",
    "#ary.insert(0, 'イワシ')\n",
    "#print(ary)\n",
    "#ary.remove('イワシ')\n",
    "#print(ary)\n",
    "\n",
    "# リストの反転\n",
    "r_ary = []\n",
    "for i in [3, 2, 1, 0] :\n",
    "    r_ary.append(ary[i])\n",
    "#print(r_ary)\n",
    "\n",
    "#ary.reverse()\n",
    "#print(ary)\n",
    "\n",
    "print(ary[::-1])\n"
   ]
  },
  {
   "cell_type": "code",
   "execution_count": null,
   "metadata": {},
   "outputs": [],
   "source": [
    "import os\n",
    "\n",
    "fnames = os.listdir('./photo/')\n",
    "print(fnames)\n",
    "print(fnames[0])\n",
    "print(fnames[1])\n",
    "print(fnames[2])\n",
    "print(fnames[3])\n",
    "print(fnames[4])\n",
    "print(\"fnamesの要素数 = \", len(fnames))\n",
    "print(fnames[-1])\n",
    "print(fnames[2:4])\n",
    "print(fnames[2:])\n",
    "print(fnames[:2])\n",
    "\n"
   ]
  },
  {
   "cell_type": "code",
   "execution_count": null,
   "metadata": {},
   "outputs": [],
   "source": [
    "ary =   \n",
    "i_ary = [4, 3, 2, 1, 0]\n",
    "#ary = ['アジ', 'サンマ', 'サバ']\n",
    "\n",
    "#for elm in ary :\n",
    "#    print(elm)    \n",
    "\n",
    "for i in i_ary :\n",
    "    print(ary[i])"
   ]
  },
  {
   "cell_type": "code",
   "execution_count": 79,
   "metadata": {},
   "outputs": [
    {
     "name": "stdout",
     "output_type": "stream",
     "text": [
      "sum =  2500\n",
      "[11, 10, 9, 8, 7, 6, 5, 4, 3, 2, 1]\n"
     ]
    }
   ],
   "source": [
    "#print(list(range(0, 11, 2)))\n",
    "#print(list(range(1, 11, 2)))\n",
    "\n",
    "sum = 0\n",
    "for x in range(1, 101, 2) :\n",
    "    sum = sum + x\n",
    "print(\"sum = \", sum)\n",
    "\n",
    "print(list(range(11, 0, -1)))"
   ]
  }
 ],
 "metadata": {
  "kernelspec": {
   "display_name": "3.10.6",
   "language": "python",
   "name": "python3"
  },
  "language_info": {
   "codemirror_mode": {
    "name": "ipython",
    "version": 3
   },
   "file_extension": ".py",
   "mimetype": "text/x-python",
   "name": "python",
   "nbconvert_exporter": "python",
   "pygments_lexer": "ipython3",
   "version": "3.10.6"
  }
 },
 "nbformat": 4,
 "nbformat_minor": 2
}
