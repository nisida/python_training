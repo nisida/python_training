{
 "cells": [
  {
   "cell_type": "code",
   "execution_count": null,
   "metadata": {},
   "outputs": [],
   "source": [
    "import PIL\n",
    "from PIL import Image\n",
    "\n",
    "img = PIL.Image.open('./photo/001.jpg')\n"
   ]
  },
  {
   "cell_type": "markdown",
   "metadata": {},
   "source": [
    "1108/1478 = 0.75 0.75 * 500"
   ]
  },
  {
   "cell_type": "code",
   "execution_count": null,
   "metadata": {},
   "outputs": [],
   "source": [
    "from PIL import Image\n",
    "\n",
    "img = Image.open('./photo/001.jpg')\n",
    "img.thumbnail((500, 400))\n",
    "print(\"** size = \", img.size)\n",
    "img.save('./photo/001.jpg')\n",
    "img"
   ]
  },
  {
   "cell_type": "code",
   "execution_count": null,
   "metadata": {},
   "outputs": [],
   "source": [
    "import os\n",
    "\n",
    "from PIL import Image\n",
    "\n",
    "DIR_PHOTO = './photo'\n",
    "MAX_FSIZE = (200 * 1024)   # = 200KB、リサイズの基準となるファイルサイズ\n",
    "MAX_W     = 500            # リサイズの幅の上限\n",
    "MAX_H     = 400            # リサイズの高さの上限\n",
    "MAX_W_H   = (MAX_W, MAX_H) # リサイズの幅と高さの上限\n",
    "\n",
    "fnames = os.listdir(DIR_PHOTO)\n",
    "\n",
    "for fname in fnames :\n",
    "    # fpath = './photo' + fname <- これはNG、正しくパスが作成されない場合がある。\n",
    "    fpath = os.path.join(DIR_PHOTO, fname)\n",
    "    if os.path.getsize(fpath) >= MAX_FSIZE : # 204800 = 1024(B) * 200(KB)\n",
    "        img = Image.open(fpath)\n",
    "        img.thumbnail(MAX_W_H)\n",
    "        img.save(fpath)\n"
   ]
  },
  {
   "cell_type": "markdown",
   "metadata": {},
   "source": [
    "C言語の場合\n",
    "\n",
    "#define DIR_PHOTO \"photo\" /* フォルダー名 */\n",
    "#define MAX_FSIZ  (200 * 1024)"
   ]
  },
  {
   "cell_type": "code",
   "execution_count": null,
   "metadata": {},
   "outputs": [],
   "source": [
    "x = 4 / 2\n",
    "print(int(x))\n",
    "x = 2 ** 3 # 2 * 2 * 2\n",
    "print(x)\n",
    "x = 2 ** 3.14\n",
    "print(x)\n",
    "\n",
    "import math\n",
    "x = 2 ** math.e\n",
    "print(x)\n",
    "\n",
    "x = 4 % 3\n",
    "print(x)\n",
    "x = 5 % 3\n",
    "print(x)"
   ]
  },
  {
   "cell_type": "code",
   "execution_count": null,
   "metadata": {},
   "outputs": [],
   "source": [
    "def foo()  :\n",
    "    _x = 1\n",
    "    def _foo2() :\n",
    "        nonlocal _x\n",
    "        _x += 1\n",
    "        print(_x)\n",
    "    return _x\n",
    "\n",
    "x = foo()\n"
   ]
  },
  {
   "cell_type": "code",
   "execution_count": null,
   "metadata": {},
   "outputs": [],
   "source": [
    "def foo(t) :\n",
    "    print(t[0], t[1], t[2])\n",
    "\n",
    "t = (\"abc\", \"123\", \"xyz\")\n",
    "foo(t)"
   ]
  },
  {
   "cell_type": "code",
   "execution_count": null,
   "metadata": {},
   "outputs": [],
   "source": [
    "ary = ['アジ', 'サンマ', 'サバ', 'タイ']\n",
    "ary[0]= 'イワシ'\n",
    "print(ary)\n",
    "ary.append('イカ')\n",
    "ary.remove('サンマ')\n",
    "print(ary)\n",
    "t_ary = ('アジ', 'サンマ', 'サバ', 'タイ')\n",
    "#t_ary[0]= 'イワシ' # <- これはエラーになる\n",
    "#t_ary.append('イカ') # <- これはエラーになる\n",
    "t_ary.remove('サンマ') # <- これはエラーになる\n"
   ]
  },
  {
   "cell_type": "code",
   "execution_count": null,
   "metadata": {},
   "outputs": [],
   "source": [
    "boo = 0\n",
    "while boo < 10 :\n",
    "    print(boo)\n",
    "    boo += 2\n",
    "print(\"boo = \", boo)\n",
    "\n",
    "# while は条件式だけではない、リスト、タプルも使える\n",
    "# ただし、リストやタプルは空になるまで続く\n",
    "ary = ['アジ', 'サンマ', 'サバ', 'タイ']\n",
    "while ary :\n",
    "    print(ary.pop())\n",
    "print(\"ary = \", ary)\n",
    "\n",
    "ary = ['アジ', 'サンマ', 'サバ', 'タイ']\n",
    "i = 0\n",
    "while i < len(ary) :\n",
    "    print(ary[i])\n",
    "    i += 1\n",
    "\n"
   ]
  },
  {
   "cell_type": "code",
   "execution_count": null,
   "metadata": {},
   "outputs": [],
   "source": [
    "x = range(5)\n",
    "print(list(x))\n",
    "x = range(1, 10)\n",
    "print(list(x))\n",
    "x = range(1, 10, 2)\n",
    "print(list(x))\n",
    "x = range(10, 1, -1)\n",
    "print(list(x))\n"
   ]
  },
  {
   "cell_type": "code",
   "execution_count": null,
   "metadata": {},
   "outputs": [],
   "source": [
    "member = {\n",
    "        'name' : ['立山秀敏', '石破茂', '小泉進次郎'],\n",
    "        'age'  : [50, 62, 40],\n",
    "        'addres' : ['東京都八王子市', '鳥取', '神奈川']    \n",
    "}\n",
    "print(member['name'])\n",
    "print(member['age'])\n",
    "print(member['addres'])\n",
    "print(member.keys())\n",
    "\n",
    "for key in member.keys() :\n",
    "    print(key, member[key])"
   ]
  },
  {
   "cell_type": "code",
   "execution_count": null,
   "metadata": {},
   "outputs": [],
   "source": [
    "# 2025.4.4 演習その１　ネストの実装例\n",
    "# データは、名前（姓、名）、年齢、職業、住所、メールアドレス、電話番号であり、固定長である\n",
    "address_book = {\n",
    "    'names'     : ['立山秀敏', '石破茂', '小泉進次郎'],\n",
    "    '立山秀敏'   : {'年齢':50, '職業':'abc', '住所': '東京都八王子市', 'メール':'立山@example.com', '電話':'090-1234-5678'}\n",
    " }\n",
    "print(address_book['立山秀敏']['年齢'])\n",
    "print(address_book['立山秀敏']['住所'])\n",
    "print(address_book['立山秀敏']['メール'])\n",
    "#print(address_book['石破茂'])\n",
    "#print(address_book['小泉進次郎'])\n",
    "\n",
    "#for name in address_book['names'] :\n",
    "#    print('名前 = ', name, end= ',')\n",
    "#    print('年齢 = ', address_book[name]['年齢'], end= ',')\n",
    "#    print('職業 = ', address_book[name][1], end= ',')\n",
    "#   print('メールアドレス = ', address_book[name][3], end= ',')\n",
    "#    print('電話番号 = ', address_book[name][4])"
   ]
  },
  {
   "cell_type": "code",
   "execution_count": null,
   "metadata": {},
   "outputs": [
    {
     "name": "stdout",
     "output_type": "stream",
     "text": [
      "at index 5\n"
     ]
    }
   ],
   "source": [
    "# 2025.4.4 演習その２　プログラムの書換え\n",
    "L = [1, 2, 4, 8, 16, 32, 64]\n",
    "X = 5\n",
    "\n",
    "found = i = 0\n",
    "while not found and i < len(L):\n",
    "    if 2 ** X == L[i]:\n",
    "        found = 1\n",
    "    else:\n",
    "        i = i+1\n",
    "if found:\n",
    "    print('at index', i)\n",
    "else:\n",
    "   print(X, 'not found')"
   ]
  },
  {
   "cell_type": "code",
   "execution_count": 7,
   "metadata": {},
   "outputs": [
    {
     "name": "stdout",
     "output_type": "stream",
     "text": [
      "at index 5\n",
      "5 not found\n",
      "5 not found\n",
      "5 not found\n",
      "5 not found\n",
      "5 not found\n",
      "32 was found at\n",
      "5 was found at 5\n",
      "[1, 2, 4, 8, 16, 32, 64]\n",
      "32 was found at\n"
     ]
    }
   ],
   "source": [
    "# 2025.4.4 演習その２　プログラムの書換え 解答例4パターン\n",
    "\n",
    "# パターン１\n",
    "L = [1, 2, 4, 8, 16, 32, 64]\n",
    "X = 5\n",
    "i = 0\n",
    "while i < len(L):\n",
    "    if 2 ** X == L[i]:\n",
    "        print('at index', i)\n",
    "        break\n",
    "    i = i+1\n",
    "else:\n",
    "    print(X,'not found')\n",
    "\n",
    "# パターン２\n",
    "L = [1, 2, 4, 8, 16, 32, 64]\n",
    "X = 5\n",
    "for p in L:\n",
    "    if (2 ** X) == p:\n",
    "        print((2 ** X),'was found at'), L.index(p)\n",
    "        break\n",
    "    else:\n",
    "        print(X,'not found')\n",
    "\n",
    "# パターン３\n",
    "L = [1, 2, 4, 8, 16, 32, 64]\n",
    "X = 5\n",
    "if (2 ** X) in L:\n",
    "    print(X, 'was found at', L.index(2 ** X))\n",
    "else:\n",
    "    print((2 ** X), 'not found')\n",
    "    \n",
    "# パターン４\n",
    "X = 5\n",
    "L = []\n",
    "for i in range(7): L.append(2 ** i)\n",
    "print(L)\n",
    "\n",
    "if (2 ** X) in L:\n",
    "    print ((2 ** X), 'was found at')\n",
    "else:\n",
    "    print(X, 'not found')"
   ]
  },
  {
   "cell_type": "code",
   "execution_count": null,
   "metadata": {},
   "outputs": [],
   "source": [
    "import os\n",
    "\n",
    "print(os.path.getsize('./photo/001.jpg'))\n",
    "print(\" image file size (KB) = {}KB\".format(int(os.path.getsize('./photo/001.jpg') / 1024)))"
   ]
  },
  {
   "cell_type": "code",
   "execution_count": null,
   "metadata": {},
   "outputs": [],
   "source": [
    "import os\n",
    "\n",
    "#os.path.getsize('./photo/002.jpg') >= (200 * 1024) # 204800 = 1024(B) * 200(KB)\n",
    "\n",
    "boo = 10\n",
    "foo = 10\n",
    "(boo >= 8) and (foo >= 8) "
   ]
  },
  {
   "cell_type": "code",
   "execution_count": null,
   "metadata": {},
   "outputs": [],
   "source": [
    "boo = 10\n",
    "foo = 5\n",
    "if (boo >= 8) and (foo >= 8) :\n",
    "    print(\"こんにちは\")\n",
    "else :\n",
    "    print(\"さようなら\")"
   ]
  },
  {
   "cell_type": "code",
   "execution_count": null,
   "metadata": {},
   "outputs": [],
   "source": [
    "boo = 5\n",
    "foo = 5\n",
    "if (boo >= 8) or (foo >= 8) :\n",
    "    print(\"こんにちは\")\n",
    "else :\n",
    "    print(\"さようなら\")\n",
    "    "
   ]
  },
  {
   "cell_type": "code",
   "execution_count": null,
   "metadata": {},
   "outputs": [],
   "source": [
    "x = 100\n",
    "\n",
    "if(x % 3) == 0 :\n",
    "    print(\"3の倍数\")\n",
    "elif (x % 3) == 1 :\n",
    "    print(\"3で割った余りは1\")\n",
    "else :\n",
    "    print(\"3で割った余りは2\")\n"
   ]
  },
  {
   "cell_type": "code",
   "execution_count": null,
   "metadata": {},
   "outputs": [],
   "source": [
    "# . : カレントディレクトリ、 .. : 親ディレクトリ ./xxx : カレントディレクトリのxxxフォルダ\n",
    "# Windows , MacOSのコマンドラインツールの基本的な使い方を身につける\n",
    "# 絶対パスと、相対パスとは\n",
    "# フォルダー（ディレクトリ）の件。ルートディレクトリとは何か？　ホームディレクトリと何か？　カレントディレクトリと何か？"
   ]
  },
  {
   "cell_type": "markdown",
   "metadata": {},
   "source": [
    "3で割ったあまり(例：　xを３で割ったあまりmが、　(x % 3) == 0: print(\"あまり0), (x % 3) == 1 print(\"あまり1), (x % 3) == print(\"あまり2))"
   ]
  },
  {
   "cell_type": "markdown",
   "metadata": {},
   "source": [
    "テストケース\n",
    "\n",
    "テストケース番号     テストケース　　　　　                  期待さる結果\n",
    "🙆 00001             001.jpg(ファイルサイズxxx > 200KB)     001.jpgがリサイズされる(aaa  x cccc)\n",
    "🔴 00002             002.jpg(ファイルサイズxxx < 200KB)     002.jpgがリサイズされない(aaa  x cccc)\n"
   ]
  },
  {
   "cell_type": "code",
   "execution_count": null,
   "metadata": {},
   "outputs": [],
   "source": [
    "import os\n",
    "\n",
    "fnames = os.listdir('./photo/')\n",
    "\n",
    "for fname in fnames :\n",
    "    print(os.path.join('./photo/', fname))\n",
    "    #print('./photo/' + fname)"
   ]
  },
  {
   "cell_type": "code",
   "execution_count": null,
   "metadata": {},
   "outputs": [],
   "source": [
    "ary = ['アジ', 'サンマ', 'サバ', 'タイ']\n",
    "#print(ary[0])\n",
    "#print(ary[1])\n",
    "#print(ary[2])\n",
    "#print(ary[3])\n",
    "#print(ary[4])\n",
    "#ary[0] = 123456\n",
    "#print(ary)\n",
    "\n",
    "def func(a) :\n",
    "    print(a)\n",
    "\n",
    "fl = [func]\n",
    "fl[0](ary[0])\n",
    "\n",
    "ary2 = [[123, 456, 789], [\"abcd\", \"efgh\"]]\n",
    "print(ary2[0][1])\n",
    "\n"
   ]
  },
  {
   "cell_type": "code",
   "execution_count": null,
   "metadata": {},
   "outputs": [],
   "source": [
    "ary = ['アジ', 'サンマ', 'サバ', 'タイ']\n",
    "\n",
    "#a_ary = [ary[3], ary[2], ary[1], ary[0]]\n",
    "#print(a_ary)\n",
    "\n",
    "#ary.append('イワシ')\n",
    "#print(ary)\n",
    "#ary.insert(0, 'イワシ')\n",
    "#print(ary)\n",
    "#ary.remove('イワシ')\n",
    "#print(ary)\n",
    "\n",
    "# リストの反転\n",
    "r_ary = []\n",
    "for i in [3, 2, 1, 0] :\n",
    "    r_ary.append(ary[i])\n",
    "#print(r_ary)\n",
    "\n",
    "#ary.reverse()\n",
    "#print(ary)\n",
    "\n",
    "print(ary[::-1])\n"
   ]
  },
  {
   "cell_type": "code",
   "execution_count": null,
   "metadata": {},
   "outputs": [],
   "source": [
    "import os\n",
    "\n",
    "fnames = os.listdir('./photo/')\n",
    "print(fnames)\n",
    "print(fnames[0])\n",
    "print(fnames[1])\n",
    "print(fnames[2])\n",
    "print(fnames[3])\n",
    "print(fnames[4])\n",
    "print(\"fnamesの要素数 = \", len(fnames))\n",
    "print(fnames[-1])\n",
    "print(fnames[2:4])\n",
    "print(fnames[2:])\n",
    "print(fnames[:2])\n",
    "\n"
   ]
  },
  {
   "cell_type": "code",
   "execution_count": null,
   "metadata": {},
   "outputs": [],
   "source": [
    "ary =   \n",
    "i_ary = [4, 3, 2, 1, 0]\n",
    "#ary = ['アジ', 'サンマ', 'サバ']\n",
    "\n",
    "#for elm in ary :\n",
    "#    print(elm)    \n",
    "\n",
    "for i in i_ary :\n",
    "    print(ary[i])"
   ]
  },
  {
   "cell_type": "code",
   "execution_count": null,
   "metadata": {},
   "outputs": [],
   "source": [
    "#print(list(range(0, 11, 2)))\n",
    "#print(list(range(1, 11, 2)))\n",
    "\n",
    "sum = 0\n",
    "for x in range(1, 101, 2) :\n",
    "    sum = sum + x\n",
    "print(\"sum = \", sum)\n",
    "\n",
    "print(list(range(11, 0, -1)))"
   ]
  }
 ],
 "metadata": {
  "kernelspec": {
   "display_name": "3.10.6",
   "language": "python",
   "name": "python3"
  },
  "language_info": {
   "codemirror_mode": {
    "name": "ipython",
    "version": 3
   },
   "file_extension": ".py",
   "mimetype": "text/x-python",
   "name": "python",
   "nbconvert_exporter": "python",
   "pygments_lexer": "ipython3",
   "version": "3.10.6"
  }
 },
 "nbformat": 4,
 "nbformat_minor": 2
}
