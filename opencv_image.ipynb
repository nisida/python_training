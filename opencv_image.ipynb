{
 "cells": [
  {
   "cell_type": "code",
   "execution_count": 19,
   "id": "6fed5b6d",
   "metadata": {},
   "outputs": [
    {
     "data": {
      "image/png": "[encoded data removed]",
      "text/plain": [
       "<PIL.Image.Image image mode=L size=474x434>"
      ]
     },
     "execution_count": 19,
     "metadata": {},
     "output_type": "execute_result"
    }
   ],
   "source": [
    "# Canny Method\n",
    "import numpy as np\n",
    "import cv2\n",
    "import os\n",
    "from PIL import Image\n",
    "\n",
    "img    = cv2.imread('ex1.png')\n",
    "gray   = cv2.cvtColor(img, cv2.COLOR_BGR2GRAY)\n",
    "g_gray = cv2.GaussianBlur(gray, (5, 5), 0)\n",
    "threshold1, threshhold2 = 50, 150\n",
    "r_canny = 255 - cv2.Canny(g_gray, threshold1, threshhold2) # <- 255-をつけることで、白黒反転する\n",
    "#cv2.imwrite('ex1_canny.png', r_canny) # <- デバックのため\n",
    "pil_img = Image.fromarray(r_canny)\n",
    "pil_img"
   ]
  },
  {
   "cell_type": "code",
   "execution_count": 18,
   "id": "282976c3",
   "metadata": {},
   "outputs": [
    {
     "data": {
      "image/png": "[encoded data removed]",
      "text/plain": [
       "<PIL.Image.Image image mode=L size=474x434>"
      ]
     },
     "execution_count": 18,
     "metadata": {},
     "output_type": "execute_result"
    }
   ],
   "source": [
    "# Sobel Method\n",
    "import numpy as np\n",
    "import cv2\n",
    "import os\n",
    "from PIL import Image\n",
    "\n",
    "img    = cv2.imread('ex1.png')\n",
    "gray   = cv2.cvtColor(img, cv2.COLOR_BGR2GRAY)\n",
    "g_gray = cv2.GaussianBlur(gray, (5, 5), 0)\n",
    "\n",
    "# Sobel フィルターの適用\n",
    "sobel_x = cv2.Sobel(g_gray, cv2.CV_32F, dx = 1, dy = 0, ksize = 3)\n",
    "sobel_y = cv2.Sobel(g_gray, cv2.CV_32F, dx = 0, dy = 1, ksize = 3)\n",
    "\n",
    "# 勾配の絶対値を計算\n",
    "sobel_x = cv2.convertScaleAbs(sobel_x)\n",
    "sobel_y = cv2.convertScaleAbs(sobel_y)\n",
    "\n",
    "# x, y 方向の勾配を合成\n",
    "sobel_all = 255 - cv2.addWeighted(sobel_x, 0.5, sobel_y, 0.5, 0) # <- 255-をつけることで、白黒反転する\n",
    "\n",
    "#cv2.imwrite('ex1_sobel.png', sobel_all) # <- デバックのため\n",
    "pil_img = Image.fromarray(sobel_all)\n",
    "pil_img"
   ]
  }
 ],
 "metadata": {
  "kernelspec": {
   "display_name": "3.10.6",
   "language": "python",
   "name": "python3"
  },
  "language_info": {
   "codemirror_mode": {
    "name": "ipython",
    "version": 3
   },
   "file_extension": ".py",
   "mimetype": "text/x-python",
   "name": "python",
   "nbconvert_exporter": "python",
   "pygments_lexer": "ipython3",
   "version": "3.10.6"
  }
 },
 "nbformat": 4,
 "nbformat_minor": 5
}
