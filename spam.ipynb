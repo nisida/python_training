{
 "cells": [
  {
   "cell_type": "markdown",
   "id": "ac17098d",
   "metadata": {},
   "source": [
    "## Spam mail分類を行う"
   ]
  },
  {
   "cell_type": "code",
   "execution_count": 55,
   "id": "b2ae6f82",
   "metadata": {},
   "outputs": [
    {
     "name": "stderr",
     "output_type": "stream",
     "text": [
      "[nltk_data] Downloading package punkt to /Users/nisida/nltk_data...\n",
      "[nltk_data]   Package punkt is already up-to-date!\n",
      "[nltk_data] Downloading package stopwords to\n",
      "[nltk_data]     /Users/nisida/nltk_data...\n",
      "[nltk_data]   Package stopwords is already up-to-date!\n"
     ]
    },
    {
     "name": "stdout",
     "output_type": "stream",
     "text": [
      "2.0.2\n",
      "-------------\n",
      "hum count   =  4825\n",
      "supam count =  747\n",
      "-------------\n",
      "max_token_len =  171\n",
      "[665, 202, 221, 666, 667, 668, 595, 477, 21, 669, 294, 670, 553]\n",
      "Train tokens: 4457\n",
      "Test tokens: 1114\n",
      "train #1000: [3517, 3518, 647, 2176]\n",
      "train label #1000: 0\n",
      "max_train_vocab =  8906\n",
      "max_test_vocab =  10124\n",
      "max_voc =  10124\n"
     ]
    }
   ],
   "source": [
    "\n",
    "%matplotlib inline\n",
    "\"\"\" spam を分類する　\"\"\"\n",
    "import libs.load_spam_data\n",
    "import importlib\n",
    "importlib.reload(libs.load_spam_data)\n",
    "from tensorflow.keras.preprocessing.sequence import pad_sequences\n",
    "\n",
    "# データの読み込み\n",
    "FILE_PATH = './spam_data/spam.csv'\n",
    "train_tokes, train_labels, test_tokes, test_labels = libs.load_spam_data.load_spam_data(FILE_PATH)\n",
    "print(f\"Train tokens: {len(train_tokes)}\")\n",
    "print(f\"Test tokens: {len(test_tokes)}\")\n",
    "print(\"train #1000:\", train_tokes[1000])\n",
    "print(\"train label #1000:\", train_labels[1000])\n",
    "\n",
    "max_train_len = max([len(x) for x in train_tokes])\n",
    "#print(\"max_train_len = \", max_train_len)\n",
    "max_test_len = max([len(x) for x in test_tokes])\n",
    "#print(\"max_test_len = \", max_test_len)\n",
    "\n",
    "x_train = pad_sequences(train_tokes, maxlen=max_train_len, padding='post')\n",
    "x_test  = pad_sequences(test_tokes, maxlen=max_test_len, padding='post')\n",
    "#print(\"x_train[1000]:\", x_train[1000])\n",
    "#print(\"x_test[1000]:\", x_test[1000])\n",
    "\n",
    "max_train_vocab = 0\n",
    "for token in train_tokes:\n",
    "    for y in token :\n",
    "        if y > max_train_vocab:\n",
    "            max_train_vocab = y\n",
    "print(\"max_train_vocab = \", max_train_vocab)\n",
    "max_test_vocab = 0\n",
    "for token in test_tokes:\n",
    "    for y in token :\n",
    "        if y > max_test_vocab:\n",
    "            max_test_vocab = y\n",
    "print(\"max_test_vocab = \", max_test_vocab)\n",
    "if max_train_vocab > max_test_vocab:\n",
    "    max_voc = max_train_vocab\n",
    "else:\n",
    "    max_voc = max_test_vocab\n",
    "print(\"max_voc = \", max_voc)"
   ]
  },
  {
   "cell_type": "markdown",
   "id": "d3cf3861",
   "metadata": {},
   "source": [
    ",{'name': 1, 'price':2} ->  all_token内の全ての単語にユニークなID（数字)をふる（Pythonの辞書で作成する）. -> コーパスと呼ぶ。\n",
    "\n",
    "気になるpoint\n",
    "\n",
    "token1 = [1,3, 6, 7, 0, 0] , token2 = [10, 13, 14, 15 16, 17]\n"
   ]
  },
  {
   "cell_type": "code",
   "execution_count": null,
   "id": "b478aecc",
   "metadata": {},
   "outputs": [],
   "source": [
    "import nltk \n",
    "\n",
    "print(nltk.__version__)"
   ]
  }
 ],
 "metadata": {
  "kernelspec": {
   "display_name": "3.10.6",
   "language": "python",
   "name": "python3"
  },
  "language_info": {
   "codemirror_mode": {
    "name": "ipython",
    "version": 3
   },
   "file_extension": ".py",
   "mimetype": "text/x-python",
   "name": "python",
   "nbconvert_exporter": "python",
   "pygments_lexer": "ipython3",
   "version": "3.10.6"
  }
 },
 "nbformat": 4,
 "nbformat_minor": 5
}
