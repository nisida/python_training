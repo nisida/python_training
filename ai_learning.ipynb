{
 "cells": [
  {
   "cell_type": "markdown",
   "id": "e443a2db",
   "metadata": {},
   "source": [
    "# 目標\n",
    "\n",
    "## 機械学習の基礎を理解して、独自で基本的な学習モデルのコードを実装できるようになる。\n",
    "\n",
    "# 学習内容\n",
    "\n",
    "## - AIとは何か\n",
    "## (- ベイジアンフィルターの実装?)\n",
    "## - 機械学習の基本原理とは\n",
    "## - 機械学習を構成する要素\n",
    "## - 機械学習モデルとは\n",
    "## T- ensorFlowとPythonによるautoencoderの実装\n",
    "## - 画像分類技術の基礎\n",
    "## - TensorFlowとPythonによる画像分類の実装\n",
    "## (- 強化学習の基礎?)\n",
    "## (- 迷路探索アルゴリズムの実装?)"
   ]
  }
 ],
 "metadata": {
  "language_info": {
   "name": "python"
  }
 },
 "nbformat": 4,
 "nbformat_minor": 5
}
