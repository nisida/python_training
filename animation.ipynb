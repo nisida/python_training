{
 "cells": [
  {
   "cell_type": "markdown",
   "id": "720a9ae3",
   "metadata": {},
   "source": [
    "## 静止画画像をもとにアニメーション風の動画を作成する\n",
    "### 検討するべき課題\n",
    "\n",
    "- 使用する静止画を選ぶ（各自個別）\n",
    "- 静止画像からアニメーション風の静止画を作成するにはどうすれば良いか（opencvを使用する）\n",
    "- 動画は遠くから近づいてくるような動画にしたい（理由：処理が比較的容易そうだから）。これには画像の縮小と拡大\n",
    "　を行う必要がありそうだ。画像の縮小、拡大はどうすればできるのか。また、単純な縮小と拡大でそこそこの動画作れるか？\n",
    "- 動画にする場合、画像は同じサイズにする必要がある。これは、同じ土台に縮小、拡大した画像を合成していく必要がある。\n",
    "　土台の上に画像を合成す方法は？\n",
    "- 作成した複数枚の画像データを動画に合成するには？\n",
    "\n",
    "### 目的\n",
    "\n",
    "動画を作成する過程の中で使用するopencvのapiにより、opencvの基礎を獲得する。加えて、この作成プロセスを実施するkとで動画と静止画の\n",
    "画像処理の基礎を習得する。\n",
    "\n",
    "成果物は５月１２日に提出してもらいます。\n",
    "\n",
    "![推奨画像その１](./recommend.png)\n",
    "![推奨画像その２](./watch.png)\n"
   ]
  },
  {
   "cell_type": "markdown",
   "id": "b59522ad",
   "metadata": {},
   "source": [
    "### どのapiをやるのか\n",
    "\n",
    "1. 画像の輪郭線の検出。これは、輪郭検出（エッジ検出）のためのAPIを使用します。\n",
    "2. 画像の拡大、縮小。これは、画像のリサイズのためのAPIを使用します。\n",
    "3. 1.、２.で作成した画像を「キレイに」合成する。これは、画像の合成のためのAPIを使用します。\n",
    "4. 静止画像を動画に合成する。これは、動画合成のためのAPIを使用します。"
   ]
  },
  {
   "cell_type": "markdown",
   "id": "e9a00698",
   "metadata": {},
   "source": []
  }
 ],
 "metadata": {
  "kernelspec": {
   "display_name": "3.10.6",
   "language": "python",
   "name": "python3"
  },
  "language_info": {
   "codemirror_mode": {
    "name": "ipython",
    "version": 3
   },
   "file_extension": ".py",
   "mimetype": "text/x-python",
   "name": "python",
   "nbconvert_exporter": "python",
   "pygments_lexer": "ipython3",
   "version": "3.10.6"
  }
 },
 "nbformat": 4,
 "nbformat_minor": 5
}
