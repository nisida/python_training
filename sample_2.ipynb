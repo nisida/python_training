{
 "cells": [
  {
   "cell_type": "code",
   "execution_count": null,
   "id": "934721ff",
   "metadata": {},
   "outputs": [],
   "source": [
    "import cv2\n",
    "\n",
    "CASCADE_FILE  = 'haarcascade_frontalface_default.xml'\n",
    "INPUT_FILE    = 'photo/003.jpg'\n",
    "OUTPUT_FILE   = 'photo/003_face.jpg'\n",
    "SCALE_FACTOR  = 1.1\n",
    "RED           = (0, 0, 255)\n",
    "LINE_WIDTH    = 5\n",
    "\n",
    "print(\"OpenCV version:\", cv2.__version__)\n",
    "\n",
    "cascade = cv2.CascadeClassifier(CASCADE_FILE)\n",
    "img     = cv2.imread(INPUT_FILE)\n",
    "gray    = cv2.cvtColor(img, cv2.COLOR_BGR2GRAY)\n",
    "faces   = cascade.detectMultiScale(gray, scaleFactor=SCALE_FACTOR)\n",
    "\n",
    "for (x , y, w, h) in faces :\n",
    "    cv2.rectangle(img, (x, y), (x + w, y + h), RED, LINE_WIDTH)\n",
    "    \n",
    "cv2.imwrite(OUTPUT_FILE, img)\n"
   ]
  },
  {
   "cell_type": "code",
   "execution_count": null,
   "id": "5ed70f77",
   "metadata": {},
   "outputs": [],
   "source": [
    "# 本物の顔データを認識するか確認する\n",
    "import cv2\n",
    "\n",
    "print(\"OpenCV version:\", cv2.__version__)\n",
    "\n",
    "cascade = cv2.CascadeClassifier('haarcascade_frontalface_default.xml')\n",
    "img     = cv2.imread('train_data/zico/Zico_0001.jpg')\n",
    "gray    = cv2.cvtColor(img, cv2.COLOR_BGR2GRAY)\n",
    "faces   = cascade.detectMultiScale(gray, scaleFactor=2.0)\n",
    "\n",
    "for (x , y, w, h) in faces:\n",
    "    cv2.rectangle(img, (x, y), (x + w, y + h), (0,0,255), 5)\n",
    "    \n",
    "cv2.imwrite('train_data/zico/Zico_0001_face.jpg', img)\n"
   ]
  },
  {
   "cell_type": "code",
   "execution_count": null,
   "id": "df4f97cb",
   "metadata": {},
   "outputs": [],
   "source": [
    "def showmsg() :\n",
    "    print('こんにちわ')\n",
    "    print('さようなら')\n",
    "\n",
    "showmsg()\n",
    "showmsg()\n"
   ]
  },
  {
   "cell_type": "code",
   "execution_count": 10,
   "id": "0971702d",
   "metadata": {},
   "outputs": [
    {
     "name": "stdout",
     "output_type": "stream",
     "text": [
      "3\n",
      "7\n"
     ]
    }
   ],
   "source": [
    "def addnum(boo, foo) :\n",
    "    val = boo + foo\n",
    "    return val\n",
    "\n",
    "print(addnum(1, 2))\n",
    "print(addnum(3, 4))"
   ]
  },
  {
   "cell_type": "code",
   "execution_count": null,
   "id": "ff7e7a3b",
   "metadata": {},
   "outputs": [],
   "source": [
    "for x, y, w, h in faces :\n",
    "    print(x, y, w, h, sep=' / ')"
   ]
  },
  {
   "cell_type": "code",
   "execution_count": null,
   "id": "af9bbe35",
   "metadata": {},
   "outputs": [],
   "source": [
    "a, b, c, d = faces[0]\n",
    "print(a, b, c, d, sep=' / ')\n"
   ]
  },
  {
   "cell_type": "code",
   "execution_count": null,
   "id": "48915813",
   "metadata": {},
   "outputs": [],
   "source": [
    "ary = ['アジ', 'サンマ', 'サバ', 'タイ', 'イワシ']\n",
    "len(ary)\n",
    "#ary[5] = 'カツオ' <- index error\n",
    "ary.append('ブリ')\n",
    "print(ary)\n",
    "ary = ['アジ', 'サンマ', 'サバ', 'タイ', 'イワシ']\n",
    "ary.insert(2, 'ブリ')\n",
    "ary = ['アジ', 'サンマ', 'サバ', 'タイ', 'イワシ']\n",
    "ary.insert(0, 'ブリ')\n",
    "print(ary)\n"
   ]
  },
  {
   "cell_type": "code",
   "execution_count": null,
   "id": "939a48e3",
   "metadata": {},
   "outputs": [],
   "source": [
    "# 分割代入\n",
    "ary = ['アジ', 'サンマ', 'サバ', 'タイ']\n",
    "a, b, c, d = ary\n",
    "print(a, b, c, d, sep=' / ')"
   ]
  },
  {
   "cell_type": "code",
   "execution_count": null,
   "id": "c03e6b65",
   "metadata": {},
   "outputs": [],
   "source": [
    "l1 = [1, 2, 3, 4, 5]\n",
    "l2 = []\n",
    "for v in l :\n",
    "    l2.append(v * 3)\n",
    "print(l2)"
   ]
  },
  {
   "cell_type": "code",
   "execution_count": null,
   "id": "8b325643",
   "metadata": {},
   "outputs": [],
   "source": [
    "# リスト内包表記\n",
    "l = [1, 2, 3, 4, 5]\n",
    "l = [v * 3 for v in l]\n",
    "print(l1)\n"
   ]
  },
  {
   "cell_type": "markdown",
   "id": "cf464e9c",
   "metadata": {},
   "source": [
    "# 作成s時てほしいアプリケーション\n",
    "\n",
    "自分の内蔵カメラに自分顔を映して、顔認識できるかどうかを試す。　　\n",
    "\n",
    "1. cap = cv2.VideoCapture(0)これで、カメラの使用を開始内蔵カメラは０番\n",
    "2. ret, frame = cap.read()  # フレームを読み込む, frameにカメラ画像が返される。このframeで顔認識\n",
    "3. qキーが押されるまで繰り返す。\n"
   ]
  }
 ],
 "metadata": {
  "kernelspec": {
   "display_name": "3.10.6",
   "language": "python",
   "name": "python3"
  },
  "language_info": {
   "codemirror_mode": {
    "name": "ipython",
    "version": 3
   },
   "file_extension": ".py",
   "mimetype": "text/x-python",
   "name": "python",
   "nbconvert_exporter": "python",
   "pygments_lexer": "ipython3",
   "version": "3.10.6"
  }
 },
 "nbformat": 4,
 "nbformat_minor": 5
}
