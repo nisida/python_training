{
 "cells": [
  {
   "cell_type": "code",
   "execution_count": null,
   "id": "934721ff",
   "metadata": {},
   "outputs": [
    {
     "name": "stdout",
     "output_type": "stream",
     "text": [
      "OpenCV version: 4.8.0\n"
     ]
    },
    {
     "data": {
      "text/plain": [
       "True"
      ]
     },
     "execution_count": 8,
     "metadata": {},
     "output_type": "execute_result"
    }
   ],
   "source": [
    "import cv2\n",
    "\n",
    "CASCADE_FILE  = 'haarcascade_frontalface_default.xml'\n",
    "INPUT_FILE    = 'photo/003.jpg'\n",
    "OUTPUT_FILE   = 'photo/003_face.jpg'\n",
    "SCALE_FACTOR  = 1.1\n",
    "RED           = (0, 0, 255)\n",
    "LINE_WIDTH    = 5\n",
    "\n",
    "print(\"OpenCV version:\", cv2.__version__)\n",
    "\n",
    "cascade = cv2.CascadeClassifier(CASCADE_FILE)\n",
    "img     = cv2.imread(INPUT_FILE)\n",
    "gray    = cv2.cvtColor(img, cv2.COLOR_BGR2GRAY)\n",
    "faces   = cascade.detectMultiScale(gray, scaleFactor=SCALE_FACTOR)\n",
    "\n",
    "for (x , y, w, h) in faces :\n",
    "    cv2.rectangle(img, (x, y), (x + w, y + h), RED, LINE_WIDTH)\n",
    "    \n",
    "cv2.imwrite(OUTPUT_FILE, img)\n"
   ]
  },
  {
   "cell_type": "code",
   "execution_count": 5,
   "id": "5ed70f77",
   "metadata": {},
   "outputs": [
    {
     "name": "stdout",
     "output_type": "stream",
     "text": [
      "OpenCV version: 4.8.0\n"
     ]
    },
    {
     "data": {
      "text/plain": [
       "True"
      ]
     },
     "execution_count": 5,
     "metadata": {},
     "output_type": "execute_result"
    }
   ],
   "source": [
    "# 本物の顔データを認識するか確認する\n",
    "import cv2\n",
    "\n",
    "print(\"OpenCV version:\", cv2.__version__)\n",
    "\n",
    "cascade = cv2.CascadeClassifier('haarcascade_frontalface_default.xml')\n",
    "img     = cv2.imread('train_data/zico/Zico_0001.jpg')\n",
    "gray    = cv2.cvtColor(img, cv2.COLOR_BGR2GRAY)\n",
    "faces   = cascade.detectMultiScale(gray, scaleFactor=2.0)\n",
    "\n",
    "for (x , y, w, h) in faces:\n",
    "    cv2.rectangle(img, (x, y), (x + w, y + h), (0,0,255), 5)\n",
    "    \n",
    "cv2.imwrite('train_data/zico/Zico_0001_face.jpg', img)\n"
   ]
  },
  {
   "cell_type": "code",
   "execution_count": 47,
   "id": "ff7e7a3b",
   "metadata": {},
   "outputs": [
    {
     "name": "stdout",
     "output_type": "stream",
     "text": [
      "504 / 117 / 148 / 148\n",
      "66 / 112 / 180 / 180\n",
      "300 / 160 / 147 / 147\n"
     ]
    }
   ],
   "source": [
    "for x, y, w, h in faces :\n",
    "    print(x, y, w, h, sep=' / ')"
   ]
  },
  {
   "cell_type": "code",
   "execution_count": 38,
   "id": "af9bbe35",
   "metadata": {},
   "outputs": [
    {
     "name": "stdout",
     "output_type": "stream",
     "text": [
      "66 / 112 / 180 / 180\n"
     ]
    }
   ],
   "source": [
    "a, b, c, d = faces[0]\n",
    "print(a, b, c, d, sep=' / ')\n"
   ]
  },
  {
   "cell_type": "code",
   "execution_count": 29,
   "id": "48915813",
   "metadata": {},
   "outputs": [
    {
     "name": "stdout",
     "output_type": "stream",
     "text": [
      "['アジ', 'サンマ', 'サバ', 'タイ', 'イワシ', 'ブリ']\n",
      "['ブリ', 'アジ', 'サンマ', 'サバ', 'タイ', 'イワシ']\n"
     ]
    }
   ],
   "source": [
    "ary = ['アジ', 'サンマ', 'サバ', 'タイ', 'イワシ']\n",
    "len(ary)\n",
    "#ary[5] = 'カツオ' <- index error\n",
    "ary.append('ブリ')\n",
    "print(ary)\n",
    "ary = ['アジ', 'サンマ', 'サバ', 'タイ', 'イワシ']\n",
    "ary.insert(2, 'ブリ')\n",
    "ary = ['アジ', 'サンマ', 'サバ', 'タイ', 'イワシ']\n",
    "ary.insert(0, 'ブリ')\n",
    "print(ary)\n"
   ]
  },
  {
   "cell_type": "code",
   "execution_count": null,
   "id": "939a48e3",
   "metadata": {},
   "outputs": [
    {
     "name": "stdout",
     "output_type": "stream",
     "text": [
      "アジ / サンマ / サバ / タイ\n"
     ]
    }
   ],
   "source": [
    "# 分割代入\n",
    "ary = ['アジ', 'サンマ', 'サバ', 'タイ']\n",
    "a, b, c, d = ary\n",
    "print(a, b, c, d, sep=' / ')"
   ]
  },
  {
   "cell_type": "code",
   "execution_count": 32,
   "id": "c03e6b65",
   "metadata": {},
   "outputs": [
    {
     "name": "stdout",
     "output_type": "stream",
     "text": [
      "[3, 6, 9, 12, 15]\n"
     ]
    }
   ],
   "source": [
    "l1 = [1, 2, 3, 4, 5]\n",
    "l2 = []\n",
    "for v in l :\n",
    "    l2.append(v * 3)\n",
    "print(l2)"
   ]
  },
  {
   "cell_type": "code",
   "execution_count": 35,
   "id": "8b325643",
   "metadata": {},
   "outputs": [
    {
     "name": "stdout",
     "output_type": "stream",
     "text": [
      "[3, 6, 9, 12, 15]\n"
     ]
    }
   ],
   "source": [
    "# リスト内包表記\n",
    "l = [1, 2, 3, 4, 5]\n",
    "l = [v * 3 for v in l]\n",
    "print(l1)\n"
   ]
  },
  {
   "cell_type": "markdown",
   "id": "cf464e9c",
   "metadata": {},
   "source": [
    "# 作成s時てほしいアプリケーション\n",
    "\n",
    "自分の内蔵カメラに自分顔を映して、顔認識できるかどうかを試す。　　\n",
    "\n",
    "1. cap = cv2.VideoCapture(0)これで、カメラの使用を開始内蔵カメラは０番\n",
    "2. ret, frame = cap.read()  # フレームを読み込む, frameにカメラ画像が返される。このframeで顔認識\n",
    "3. qキーが押されるまで繰り返す。\n"
   ]
  }
 ],
 "metadata": {
  "kernelspec": {
   "display_name": "3.10.6",
   "language": "python",
   "name": "python3"
  },
  "language_info": {
   "codemirror_mode": {
    "name": "ipython",
    "version": 3
   },
   "file_extension": ".py",
   "mimetype": "text/x-python",
   "name": "python",
   "nbconvert_exporter": "python",
   "pygments_lexer": "ipython3",
   "version": "3.10.6"
  }
 },
 "nbformat": 4,
 "nbformat_minor": 5
}
