{
 "cells": [
  {
   "cell_type": "markdown",
   "metadata": {},
   "source": [
    "##  Pythonで地図を表示するサンプル"
   ]
  },
  {
   "cell_type": "code",
   "execution_count": null,
   "metadata": {},
   "outputs": [],
   "source": [
    "%matplotlib inline\n",
    "\n",
    "import sympy as sy\n",
    "import folium\n",
    "import numpy as np\n",
    "from IPython.display import display, Math\n",
    "\n",
    "# SymPy Plotting Backends (SPB)\n",
    "from spb import plot, plot_implicit\n",
    "\n",
    "# グラフを SVG で Notebook にインライン表示\n",
    "# これは試し\n",
    "%config InlineBackend.figure_formats = ['svg']\n",
    "\n",
    "# おまじない\n",
    "sy.init_printing()\n",
    "\n",
    "m = folium.Map(location=[35, 139], zoom_start=5)\n",
    "folium.Marker(location=[35,139],popup='Tokyo').add_to(m)\n",
    "folium.CircleMarker(\n",
    "    location=[34.6937, 135.5022],\n",
    "    radius=10,\n",
    "    color='#ff0000',\n",
    "    fill_color='#0000ff'\n",
    ").add_to(m)\n",
    "display(m)\n",
    "\n"
   ]
  },
  {
   "cell_type": "markdown",
   "metadata": {},
   "source": [
    "## NNによる最適値の探索　（未完成）"
   ]
  },
  {
   "cell_type": "code",
   "execution_count": null,
   "metadata": {},
   "outputs": [],
   "source": [
    "import sympy as sy\n",
    "import numpy as np\n",
    "import matplotlib.pyplot as plt\n",
    "import tensorflow as tf\n",
    "\n",
    "\n",
    "def firster(nb_input_classes = 3, nb_output_classes=1) :\n",
    "\n",
    "    input_data = tf.keras.Input(shape=(nb_input_classes,))\n",
    "\n",
    "    layers = [  tf.keras.layers.Dense(nb_input_classes, activation='relu'),\n",
    "                tf.keras.layers.BatchNormalization(),\n",
    "                tf.keras.layers.Flatten(),\n",
    "                tf.keras.layers.BatchNormalization(),\n",
    "                tf.keras.layers.Dense(nb_output_classes) ]\n",
    "    \n",
    "    # Opt\n",
    "    opt = tf.keras.optimizers.Adam(lr=1e-4)\n",
    "\n",
    "    x = layers[0](input_data)\n",
    "    for layer in layers[1:] :\n",
    "      x = layer(x)\n",
    "  \n",
    "    model = tf.keras.Model(input_data, x)\n",
    "\n",
    "    model.summary()\n",
    "\n",
    "    model.compile(optimizer=opt, loss='logcosh', metrics=['logcosh'])\n",
    "\n",
    "    return model\n",
    "  \n",
    "def run_case() :\n",
    "    \n",
    "    \"\"\"\n",
    "    test code for auto encoder decoder model \n",
    "    \"\"\"\n",
    "\n",
    "    import libs.regression_data as rg\n",
    "\n",
    "    obj = rg.regression_data()\n",
    "    x, y = obj.get_data()\n",
    "\n",
    "    in_c, out_c = 3, 1\n",
    "    batch_size, nb_epoch = 5, 10\n",
    "    \n",
    "    model = firster(in_c, out_c)\n",
    "    scores = model.fit(x, y, batch_size = batch_size, epochs = nb_epoch, validation_data = (x, y), verbose = 1)\n",
    "    L = model.layers\n",
    "    print(\"Dense weight = \", L[3].weights)\n",
    "    predict_results = model.predict(x)\n",
    "    print(\"Presict = \", predict_results)\n",
    "    for i in range(predict_results.shape[0]) :\n",
    "        print(\"Diff --> \", i, \" : \", y[i] - predict_results[i])\n",
    "    \n",
    "run_case()"
   ]
  },
  {
   "cell_type": "markdown",
   "metadata": {},
   "source": [
    "## 再急降下法\n",
    "\n",
    "$  例　：　f(a_{1}, a_{2}) = \\{ y_{i} - (a_1{1}x_{1i} + a_{2}x_{2i}) \\} ^ 2 　 \\longrightarrow　0  $"
   ]
  },
  {
   "cell_type": "code",
   "execution_count": null,
   "metadata": {},
   "outputs": [],
   "source": [
    "import sympy as sy\n",
    "from sympy.vector import CoordSys3D, gradient\n",
    "import numpy as np\n",
    "from spb import *\n",
    "import numpy as np\n",
    "from IPython.display import display, Math\n",
    "\n",
    "# グラフを SVG で Notebook にインライン表示\n",
    "%config InlineBackend.figure_formats = ['svg']\n",
    "\n",
    "# LaTeXで数式を表示\n",
    "sy.init_printing()\n",
    "\n",
    "x, y, z, a, b = sy.symbols('x y z a b')\n",
    "f = (z - (a*x + b*y))**2\n",
    "D = sy.Matrix([sy.diff(f, a), sy.diff(f, b)])\n",
    "display(Math(sy.latex(D)))"
   ]
  },
  {
   "cell_type": "markdown",
   "metadata": {},
   "source": [
    "##  迷路を使用して強化学習を学ぶ\n",
    "\n",
    "[強化学習で迷路問題を触る](https://qiita.com/Ringa_hyj/items/b148da6335af625f1f4a) \n",
    "[anytreeの使い方](https://qiita.com/maskot1977/items/f775ea6e32b400dc591e)  \n",
    "\n",
    "\n",
    "\n"
   ]
  },
  {
   "cell_type": "code",
   "execution_count": 1,
   "metadata": {},
   "outputs": [
    {
     "data": {
      "image/png": "[encoded data removed]",
      "text/plain": [
       "<Figure size 500x500 with 1 Axes>"
      ]
     },
     "metadata": {},
     "output_type": "display_data"
    }
   ],
   "source": [
    "%matplotlib inline\n",
    "\n",
    "import numpy as np\n",
    "import matplotlib.pyplot as plt\n",
    "\n",
    "# 初期位置での迷路の様子\n",
    "# 図を描く大きさと、図の変数名を宣言\n",
    "fig = plt.figure(figsize=(5, 5))\n",
    "ax = plt.gca()\n",
    "\n",
    "# 赤い壁を描く\n",
    "plt.plot([1, 1], [0, 1], color='red', linewidth=2)\n",
    "plt.plot([1, 2], [2, 2], color='red', linewidth=2)\n",
    "plt.plot([2, 2], [2, 1], color='red', linewidth=2)\n",
    "plt.plot([2, 3], [1, 1], color='red', linewidth=2)\n",
    "# 状態を示す文字S0～S8を描く\n",
    "plt.text(0.5, 2.5, 'S0', size=14, ha='center')\n",
    "plt.text(1.5, 2.5, 'S1', size=14, ha='center')\n",
    "plt.text(2.5, 2.5, 'S2', size=14, ha='center')\n",
    "plt.text(0.5, 1.5, 'S3', size=14, ha='center')\n",
    "plt.text(1.5, 1.5, 'S4', size=14, ha='center')\n",
    "plt.text(2.5, 1.5, 'S5', size=14, ha='center')\n",
    "plt.text(0.5, 0.5, 'S6', size=14, ha='center')\n",
    "plt.text(1.5, 0.5, 'S7', size=14, ha='center')\n",
    "plt.text(2.5, 0.5, 'S8', size=14, ha='center')\n",
    "plt.text(0.5, 2.3, 'START', ha='center')\n",
    "plt.text(2.5, 0.3, 'GOAL', ha='center')\n",
    "# 描画範囲の設定と目盛りを消す設定\n",
    "ax.set_xlim(0, 3)\n",
    "ax.set_ylim(0, 3)\n",
    "plt.tick_params(axis='both', which='both', bottom='off', top='off', labelbottom='off', right='off', left='off', labelleft='off')\n",
    "# 現在地S0に緑丸を描画する\n",
    "line, = ax.plot([0.5], [2.5], marker=\"o\", color='g', markersize=30)\n",
    "line, = ax.plot([0.5], [1.5], marker=\"o\", color='g', markersize=30)\n",
    "\n"
   ]
  }
 ],
 "metadata": {
  "kernelspec": {
   "display_name": "3.10.6",
   "language": "python",
   "name": "python3"
  },
  "language_info": {
   "codemirror_mode": {
    "name": "ipython",
    "version": 3
   },
   "file_extension": ".py",
   "mimetype": "text/x-python",
   "name": "python",
   "nbconvert_exporter": "python",
   "pygments_lexer": "ipython3",
   "version": "3.10.6"
  }
 },
 "nbformat": 4,
 "nbformat_minor": 2
}
