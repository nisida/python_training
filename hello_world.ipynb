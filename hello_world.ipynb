{
 "cells": [
  {
   "cell_type": "code",
   "execution_count": null,
   "metadata": {},
   "outputs": [],
   "source": [
    "print(\"Hello World\")"
   ]
  },
  {
   "cell_type": "code",
   "execution_count": null,
   "metadata": {},
   "outputs": [],
   "source": [
    "from mylib import mylib\n",
    "mylib(\"abcdefg\")\n",
    "\n",
    "# これがコメントです。\n",
    "from mylib import myadd\n",
    "x = myadd(1, 2)\n",
    "print (\"x = \", x)\n"
   ]
  },
  {
   "cell_type": "code",
   "execution_count": null,
   "metadata": {},
   "outputs": [],
   "source": [
    "# importは、プログラム中でimportしたモジュール（ファイルのこと、例：abc.py）を使えるようにするための命令\n",
    "import mylib # mylibを使えるようにすること、オブジェクトはmylib。プログラム中ではmylib.をつけて使う\n",
    "mylib.mylib(\"Hello World\") # オブジェクトmylibの中にあるmylib関数を呼び出す\n",
    "from mylib import mylib # mylibモジュールの中にあるmylib関数をインポートする、プログラム中ではmylib()と書くだけで使える\n",
    "from mylib import mylib, myadd # mylibモジュールの中にあるmylib関数とmyadd関数をインポートする、プログラム中ではmylib()とmyadd()と書くだけで使える\n",
    "mylib(\"Hello World\") # mylib関数を呼び出す\n",
    "import mylib as ml # mylibモジュールをmlという名前でインポートする、プログラム中ではml.をつけて使う\n",
    "ml.mylib(\"Hello World\") # オブジェクトmlの中にあるmylib関数を呼び出す\n",
    "\n",
    "# Pythonで言うオブジェクトは、型（例：int、str、list、dictなど）を持つデータのこと\n",
    "# オブジェクトのプログラム中での参照方法. <オブジェクト名>.<データ名>（例：mylib.mylib()）\n",
    "\n",
    "# 特定の（カレントディレクトリにディレクトリがある場合）はどう書くのか？\n",
    "import libs.mylib # libsというディレクトリの中にあるmylibモジュールをインポートする、プログラム中ではlibs.mylib.をつけて使う\n",
    "import libs.mylib as ml # libsというディレクトリの中にあるmylibモジュールをmlという名前でインポートする、プログラム中ではml.をつけて使う\n",
    "ml.mylib(\"Hello World\") # オブジェクトmlの中にあるmylib関数を呼び出す\n",
    "# 任意のディレクトリを指定してインポートする場合は、PYTHONPATHで設定する。\n",
    "\n",
    "# 標準ライブラリのインポート\n",
    "import math # mathモジュールをインポートする、プログラム中ではmath.をつけて使う\n",
    "print(math.pi) # mathモジュールの中にあるpiを呼び出す"
   ]
  },
  {
   "cell_type": "code",
   "execution_count": null,
   "metadata": {},
   "outputs": [],
   "source": [
    "s1 = 'abcdefg'\n",
    "print(s1[0:3])\n",
    "print(s1[0:3:2])\n",
    "print(s1[-1])\n",
    "print(s1[-2:100])\n",
    "print(s1[-1:100])\n",
    "s2 = 'こんにちわ世界'\n",
    "print(s2[0:3])\n",
    "\n",
    "s = s1 + s2\n",
    "print(s)\n"
   ]
  },
  {
   "cell_type": "code",
   "execution_count": null,
   "metadata": {},
   "outputs": [],
   "source": [
    "# 文字列に関して\n",
    "s = 'abcdefgh'\n",
    "print(s[0:3]) # abc ０番目から２番目まで　abc\n",
    "print(\" length of s = \", len(s)) # 8\n",
    "print(s[0:]) # abcdefgh\n",
    "print(s[:4])    # abcd\n",
    "print(s[100:101]) # 空文字列\n",
    "print(s[4:3]) # 空文字列\n",
    "print(s[0:3:2]) # ac 0番目から2番目まで、step=2\n",
    "print(s[-1]) # h\n",
    "print(s[-2]) # g\n",
    "#print(s[-100])\n",
    "print(s[-100:4]) # 空文字列\n",
    "\n",
    "#s[0] = 'A' # 文字列は変更できないのでエラーになる\n",
    "s = s[0] * 8\n",
    "print(s)"
   ]
  },
  {
   "cell_type": "code",
   "execution_count": 30,
   "metadata": {},
   "outputs": [
    {
     "name": "stdout",
     "output_type": "stream",
     "text": [
      "mishida\n",
      "nishida\n",
      " def\n"
     ]
    },
    {
     "data": {
      "text/plain": [
       "'ABC, DEF, GHI, JKL'"
      ]
     },
     "execution_count": 30,
     "metadata": {},
     "output_type": "execute_result"
    }
   ],
   "source": [
    "# 文字列オブジェクトのメソッド（関数)\n",
    "s = 'nishida'\n",
    "s.find('shi')\n",
    "print(s.replace('n', 'm'))\n",
    "print(s.replace('x', 'm'))\n",
    "s = 'abc, def, ghi, jkl'\n",
    "s.split(',') # 文字列をカンマで分割してリストにする\n",
    "print((s.split(','))[1])\n",
    "s.upper() # 大文字にする\n"
   ]
  },
  {
   "cell_type": "code",
   "execution_count": null,
   "metadata": {},
   "outputs": [],
   "source": [
    "i = 1\n",
    "d = 3.141615\n",
    "x = float(i) + int(d)\n",
    "print(\"合計 = \", x)\n",
    "print(\"合計 = {}\".format(x))\n",
    "\n",
    "x, y ,z = 1, 2, 3\n",
    "print(x, y, z)\n"
   ]
  }
 ],
 "metadata": {
  "kernelspec": {
   "display_name": "3.10.6",
   "language": "python",
   "name": "python3"
  },
  "language_info": {
   "codemirror_mode": {
    "name": "ipython",
    "version": 3
   },
   "file_extension": ".py",
   "mimetype": "text/x-python",
   "name": "python",
   "nbconvert_exporter": "python",
   "pygments_lexer": "ipython3",
   "version": "3.10.6"
  }
 },
 "nbformat": 4,
 "nbformat_minor": 2
}
