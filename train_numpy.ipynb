{
 "cells": [
  {
   "cell_type": "markdown",
   "id": "a0b77d7b",
   "metadata": {},
   "source": [
    "## Numpyライブラリを学習する理由\n",
    "\n",
    "1. テクキストでは、detectMultScanの戻り値として「リストのような」と説明が省略されているが、これはNumpyのndarrayオブジェクト。\n",
    "2. Numpyは画像処理、機械学習、データ分析など現在流行りの分野では必須の基礎知識である。\n",
    "3. 早めに習得しておけば、非常に有効なスキルとなる。\n",
    "\n",
    "$$\n",
    "\\begin{pmatrix}\n",
    "   a & b \\\\\n",
    "   c & d\n",
    "\\end{pmatrix}\n",
    "$$\n",
    "$$\n",
    "\\begin{pmatrix}\n",
    "   1 & 2 \\\\\n",
    "   3 & 4\n",
    "\\end{pmatrix}\n",
    "$$\n",
    "$$\n",
    "\\begin{pmatrix}\n",
    "   1 & 2 \\\\\n",
    "   3 & 4 \\\\\n",
    "   5 & 6 \\\\\n",
    "   7 & 8 \n",
    "\\end{pmatrix}\n",
    "$$\n",
    "\n"
   ]
  },
  {
   "cell_type": "code",
   "execution_count": null,
   "id": "ac0548a2",
   "metadata": {},
   "outputs": [],
   "source": [
    "import numpy as np\n",
    "\n",
    "np.__version__"
   ]
  },
  {
   "cell_type": "code",
   "execution_count": null,
   "id": "8a672266",
   "metadata": {},
   "outputs": [],
   "source": [
    "import numpy as np\n",
    "\n",
    "# 下記のa,bがarrrayオブジェクト\n",
    "a = np.array([1, 2, 3])\n",
    "print(a)\n",
    "b = np.array((1, 2, 3))\n",
    "print(b)"
   ]
  },
  {
   "cell_type": "code",
   "execution_count": null,
   "id": "63561807",
   "metadata": {},
   "outputs": [
    {
     "name": "stdout",
     "output_type": "stream",
     "text": [
      "[0.23997742 0.23691301 0.96663275 0.00433448]\n",
      "[[0.29144618 0.00107184 0.24652158]\n",
      " [0.12147645 0.80854491 0.84535836]]\n",
      "[0, 2, 4, 6, 8]\n"
     ]
    }
   ],
   "source": [
    "import numpy as np\n",
    "\n",
    "a = np.array([1, 2, 3])\n",
    "a\n",
    "type(a)\n",
    "type([1, 2, 3 ,4])\n",
    "a = np.array([-1, 0, 1], dtype=np.int32)\n",
    "#print(a)\n",
    "[1, 2, 3, 4, \"abc\"]\n",
    "a = np.array([1, 2, 3], dtype=np.float64)\n",
    "#print(a)\n",
    "a = np.array([1, 0, 1], dtype=np.bool_)\n",
    "#print(a)\n",
    "a = np.array([[1, 2], [3, 4]], dtype = np.int32)\n",
    "#print(a)\n",
    "#a = np.array([[[1, 2], [3 ,4]], [[5, 6], [7, 8]]], dtype = np.int32)\n",
    "#print(a, a.shape)\n",
    "a = np.array([[1, 2], [3 ,4], [5, 6], [7, 8]], dtype = np.int32)\n",
    "#print(a, a.shape)\n",
    "#np.array([[1,2],[3]])\n",
    "a = np.array([1, 2, 3, 4, 5, 6], dtype = np.int32)\n",
    "#print(a)\n",
    "# shapeとは行数（内側にある配列の数）と列数（内側にある配列の要素数）\n",
    "a = a.reshape(2, 3)\n",
    "#print(a, a.shape)\n",
    "a = np.array([0, 1, 2, 3, 4, 5]).reshape(2,3)\n",
    "#print(a.ravel())\n",
    "a1 = np.array([0, 1, 2, 3, 4, 5])\n",
    "a2 = a1.flatten()\n",
    "a3 = a2.reshape(2, 3) \n",
    "a1[1] = 200\n",
    "a2[1] = 300\n",
    "#print(a1)\n",
    "#print(a2)\n",
    "#print(a3)\n",
    "#print(\"a3のdtype =\", a3.dtype)\n",
    "#print(\"a3のshape =\", a3.shape)\n",
    "#print(\"a3のndim =\", a3.ndim)\n",
    "#print(\"a3のsize =\", a3.size)\n",
    "#print(np.arange(10))\n",
    "#print(np.arange(0.0, 1.0, 0.2))\n",
    "#print(np.linspace(0.0, 1.0, 5))\n",
    "#print(np.zeros(4))\n",
    "#print(np.zeros((2, 3)))\n",
    "#print(np.ones(4))\n",
    "print(np.random.rand(4))\n",
    "print(np.random.rand(2, 3))\n",
    "\n",
    "# map関数に引き渡すイテラブル「sample1_list」の定義\n",
    "# range(5)の実行によりsample1_listの中には「0,1,2,3,4」の値が入っている\n",
    "sample1_list = list(range(5))\n",
    "\n",
    "# イテラブルを処理する関数「multi」の定義\n",
    "def multi(x):\n",
    "    y = x*2\n",
    "    return y\n",
    "\n",
    "# map関数を呼び出し、multi関数にイテラブルsample1_listを引き渡す\n",
    "sample2_list = map(multi, sample1_list)\n",
    "\n",
    "# multi関数からの戻り値sample2_listの値をプリントアウトして確認\n",
    "print(list(sample2_list))\n",
    "\n",
    "\n"
   ]
  }
 ],
 "metadata": {
  "kernelspec": {
   "display_name": "3.10.6",
   "language": "python",
   "name": "python3"
  },
  "language_info": {
   "codemirror_mode": {
    "name": "ipython",
    "version": 3
   },
   "file_extension": ".py",
   "mimetype": "text/x-python",
   "name": "python",
   "nbconvert_exporter": "python",
   "pygments_lexer": "ipython3",
   "version": "3.10.6"
  }
 },
 "nbformat": 4,
 "nbformat_minor": 5
}
