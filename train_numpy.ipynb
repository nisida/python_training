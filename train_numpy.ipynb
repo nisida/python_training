{
 "cells": [
  {
   "cell_type": "markdown",
   "id": "a0b77d7b",
   "metadata": {},
   "source": [
    "## Numpyライブラリを学習する理由\n",
    "\n",
    "1. テクキストでは、detectMultScanの戻り値として「リストのような」と説明が省略されているが、これはNumpyのndarrayオブジェクト。\n",
    "2. Numpyは画像処理、機械学習、データ分析など現在流行りの分野では必須の基礎知識である。\n",
    "3. 早めに習得しておけば、非常に有効なスキルとなる。\n",
    "\n",
    "$$\n",
    "\\begin{pmatrix}\n",
    "   a & b \\\\\n",
    "   c & d\n",
    "\\end{pmatrix}\n",
    "$$\n",
    "$$\n",
    "\\begin{pmatrix}\n",
    "   1 & 2 \\\\\n",
    "   3 & 4\n",
    "\\end{pmatrix}\n",
    "$$\n",
    "$$\n",
    "\\begin{pmatrix}\n",
    "   1 & 2 \\\\\n",
    "   3 & 4 \\\\\n",
    "   5 & 6 \\\\\n",
    "   7 & 8 \n",
    "\\end{pmatrix}\n",
    "$$\n",
    "\n"
   ]
  },
  {
   "cell_type": "code",
   "execution_count": null,
   "id": "ac0548a2",
   "metadata": {},
   "outputs": [],
   "source": [
    "import numpy as np\n",
    "\n",
    "np.__version__"
   ]
  },
  {
   "cell_type": "code",
   "execution_count": null,
   "id": "8a672266",
   "metadata": {},
   "outputs": [],
   "source": [
    "import numpy as np\n",
    "\n",
    "# 下記のa,bがarrrayオブジェクト\n",
    "a = np.array([1, 2, 3])\n",
    "print(a)\n",
    "b = np.array((1, 2, 3))\n",
    "print(b)"
   ]
  },
  {
   "cell_type": "code",
   "execution_count": 29,
   "id": "63561807",
   "metadata": {},
   "outputs": [
    {
     "name": "stdout",
     "output_type": "stream",
     "text": [
      "[1 2 3 4 5 6]\n",
      "[0 1 2 3 4 5]\n"
     ]
    }
   ],
   "source": [
    "import numpy as np\n",
    "\n",
    "a = np.array([1, 2, 3])\n",
    "a\n",
    "type(a)\n",
    "type([1, 2, 3 ,4])\n",
    "a = np.array([-1, 0, 1], dtype=np.int32)\n",
    "#print(a)\n",
    "[1, 2, 3, 4, \"abc\"]\n",
    "a = np.array([1, 2, 3], dtype=np.float64)\n",
    "#print(a)\n",
    "a = np.array([1, 0, 1], dtype=np.bool_)\n",
    "#print(a)\n",
    "a = np.array([[1, 2], [3, 4]], dtype = np.int32)\n",
    "#print(a)\n",
    "#a = np.array([[[1, 2], [3 ,4]], [[5, 6], [7, 8]]], dtype = np.int32)\n",
    "#print(a, a.shape)\n",
    "a = np.array([[1, 2], [3 ,4], [5, 6], [7, 8]], dtype = np.int32)\n",
    "#print(a, a.shape)\n",
    "#np.array([[1,2],[3]])\n",
    "a = np.array([1, 2, 3, 4, 5, 6], dtype = np.int32)\n",
    "print(a)\n",
    "# shapeとは行数（内側にある配列の数）と列数（内側にある配列の要素数）\n",
    "a = a.reshape(2, 3)\n",
    "#print(a, a.shape)\n",
    "a = np.array([0, 1, 2, 3, 4, 5]).reshape(2,3)\n",
    "print(a.ravel())\n"
   ]
  }
 ],
 "metadata": {
  "kernelspec": {
   "display_name": "3.10.6",
   "language": "python",
   "name": "python3"
  },
  "language_info": {
   "codemirror_mode": {
    "name": "ipython",
    "version": 3
   },
   "file_extension": ".py",
   "mimetype": "text/x-python",
   "name": "python",
   "nbconvert_exporter": "python",
   "pygments_lexer": "ipython3",
   "version": "3.10.6"
  }
 },
 "nbformat": 4,
 "nbformat_minor": 5
}
